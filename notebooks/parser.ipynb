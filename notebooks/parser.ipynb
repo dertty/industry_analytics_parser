{
 "cells": [
  {
   "cell_type": "markdown",
   "metadata": {},
   "source": [
    "# Внешние отраслевые источники"
   ]
  },
  {
   "cell_type": "markdown",
   "metadata": {},
   "source": [
    "## https://b1.ru/b1-surveys"
   ]
  },
  {
   "cell_type": "code",
   "execution_count": 1,
   "metadata": {},
   "outputs": [],
   "source": [
    "import re\n",
    "import time\n",
    "import hashlib\n",
    "\n",
    "import requests\n",
    "from bs4 import BeautifulSoup\n",
    "\n",
    "\n",
    "def get_soup(link):\n",
    "    HEADERS = {\n",
    "        \"User-Agent\": \"Mozilla/5.0 (Windows NT 10.0; Win64; x64) AppleWebKit/537.36 (KHTML, like Gecko) Chrome/119.0.0.0 Safari/537.36\"\n",
    "    }\n",
    "    soup = None\n",
    "    response = requests.get(link, headers=HEADERS)\n",
    "    if response.status_code == 200:\n",
    "        soup = BeautifulSoup(response.text, \"html.parser\")\n",
    "    else:\n",
    "        print(f\"Ошибка запроса: {response.status_code}\")\n",
    "    return soup\n",
    "\n",
    "\n",
    "URL = 'https://b1.ru/'\n",
    "SURVEYS_URL = URL + 'b1-surveys/'\n",
    "\n",
    "\n",
    "soup = get_soup(SURVEYS_URL)\n",
    "pagination = soup.find('div', class_='pagination')\n",
    "page_links = [a['href'] for a in pagination.find_all('a') if '?PAGEN_2=' in a['href']]\n",
    "last_page = max([int(a.split('?PAGEN_2=')[-1]) for a in page_links])"
   ]
  },
  {
   "cell_type": "code",
   "execution_count": 3,
   "metadata": {},
   "outputs": [],
   "source": [
    "analytics = []\n",
    "for i in range(1, last_page + 1):\n",
    "    soup = get_soup(SURVEYS_URL + '?PAGEN_2=' + str(i))\n",
    "    time.sleep(1)\n",
    "    analytics_block = {}\n",
    "    for block in soup.find_all('div', class_=re.compile(r\"^news-block__gridItem triangleWrap--hover\")):\n",
    "        if block:\n",
    "            link = block['src-href']\n",
    "            if not 'services' in link:\n",
    "                analytics_block['link'] = link\n",
    "                analytics_block['date'] = block.find('p', class_='news-block__date').text\n",
    "                analytics_block['name'] = block.find('h2', class_='news-block__title').text\n",
    "                analytics_block['name_en'] = link.strip().strip('/').split('/')[-1]\n",
    "                \n",
    "                time.sleep(1)\n",
    "                analytics_soup = get_soup(URL + link)\n",
    "                tags_block = analytics_soup.find('div', class_=re.compile(r\"tezis-list-block__tags\"))\n",
    "                if tags_block:\n",
    "                    analytics_block['tags'] = [a.text for a in tags_block.find_all('a', class_=re.compile(r\"tag\"))]\n",
    "                else:\n",
    "                    analytics_block['tags'] = []\n",
    "                \n",
    "                analytics_block['text'] = '\\n'.join([re.sub(r\"\\n+\", \"\\n\", x.text) for x in analytics_soup.find('main').find('section').find_next_siblings()])\n",
    "                analytics_block['pdf_links'] = [f'{URL}{a['href']}' for a in analytics_soup.find_all('a', href=True) if a['href'].endswith('.pdf')]\n",
    "                analytics_block['pdf_links'].append(f'{URL}local/assets/surveys/{analytics_block['name_en']}.pdf')\n",
    "                \n",
    "                pdfs_content = []\n",
    "                pdfs_names = []\n",
    "                for url in analytics_block['pdf_links']:\n",
    "                    response = requests.get(url, stream=True)\n",
    "                    if response.status_code == 200:\n",
    "                        pdf_name = url.strip().strip('/').split('/')[-1]\n",
    "                        pdf_content = response.content\n",
    "                        if pdf_name not in pdfs_names:\n",
    "                            pdfs_names.append(pdf_name)\n",
    "                            pdfs_content.append({\"name\": pdf_name, \"content\": pdf_content})\n",
    "                analytics_block['pdfs'] = pdfs_content\n",
    "                analytics.append(analytics_block)\n",
    "        break\n",
    "    break"
   ]
  },
  {
   "cell_type": "code",
   "execution_count": 4,
   "metadata": {},
   "outputs": [
    {
     "data": {
      "text/plain": [
       "1"
      ]
     },
     "execution_count": 4,
     "metadata": {},
     "output_type": "execute_result"
    }
   ],
   "source": [
    "len(analytics)"
   ]
  }
 ],
 "metadata": {
  "kernelspec": {
   "display_name": ".venv",
   "language": "python",
   "name": "python3"
  },
  "language_info": {
   "codemirror_mode": {
    "name": "ipython",
    "version": 3
   },
   "file_extension": ".py",
   "mimetype": "text/x-python",
   "name": "python",
   "nbconvert_exporter": "python",
   "pygments_lexer": "ipython3",
   "version": "3.13.2"
  }
 },
 "nbformat": 4,
 "nbformat_minor": 2
}
